{
 "cells": [
  {
   "cell_type": "markdown",
   "metadata": {
    "collapsed": true
   },
   "source": [
    "<h3>DATA SCIENCE INTERVIEW CHALLENGE<h3>"
   ]
  },
  {
   "cell_type": "markdown",
   "metadata": {},
   "source": [
    "For this exercise, you will analyze a dataset from Amazon. The data format and a sample entry are shown on the next page.\n",
    "A. (Suggested duration: 90 mins)\n",
    "With the given data for 548552 products, perform exploratory analysis and make suggestions for further analysis on the following aspects.\n",
    "1. Trustworthiness of ratings <br>\n",
    "Ratings are susceptible to manipulation, bias etc. What can you say (quantitatively speaking) about the ratings in this dataset?\n",
    "<br>\n",
    "<b> It is using Likert scale (1-5) which a numerical value (a quantitative value) is assigned to a choice (qualitative). About 140K out of 542k of data have zero reviews so those needs to be cleaned or removed before getting the average of the ratings.  The average rating is 4.3 which is interpreted as \"Good to Very Good\" compared to 3.2 (\"Neutral\") for uncleaned data. <br>\n",
    "The reason for not including items with no reviews is because averaging is much affected by extreme values (like zero). Thus, filtering items with no reviews increased the overall average rating from 3.2 (\"Neutral\") to 4.3 (\"Good to Very Good\").\n",
    "<br> Software and Baby products have the highest average ratings at 4.5 (\"Very Good\") while Video games has the lowest rating of 2.5 (\"Average\".\n",
    "</b>\n",
    "2. Category bloat<br>\n",
    "Consider the product group named 'Books'. Each product in this group is associated with categories. Naturally, with categorization, there are tradeoffs between how broad or specific the categories must be.\n",
    "For this dataset, quantify the following:<br>\n",
    "a. Is there redundancy in the categorization? How can it be identified/removed?\n",
    "<br>\n",
    "<b> Yes, some of the categories are duplicated like below since Preaching and Sermons can be combined together.\n",
    "</b>\n",
    "<br>\n",
    "|Books[283155]|Subjects[1000]|Religion & Spirituality[22]|Christianity[12290]|Clergy[12360]|Preaching[12368]<br>\n",
    "|Books[283155]|Subjects[1000]|Religion & Spirituality[22]|Christianity[12290]|Clergy[12360]|Sermons[12370]<br>\n",
    "\n",
    "b. Is is possible to reduce the number of categories drastically (say to 10% of existing categories) by sacrificing relatively few category entries (say close to 10%)?\n",
    "<br>\n",
    "<b> Yes, it is possible to reduce the number of categories by filtering relatively few category entries.  We can use Machine Learning algorithm like Naive Bayes, SVM or NLTK or GenSim (uses cosine similarity) to classify similar words in the categories and combine them into fewer categories.\n",
    "</b>\n"
   ]
  },
  {
   "cell_type": "code",
   "execution_count": 1,
   "metadata": {
    "collapsed": true
   },
   "outputs": [],
   "source": [
    "%matplotlib inline\n",
    "import pandas as pd\n",
    "import json\n",
    "from pandas.io.json import json_normalize\n",
    "import numpy as np\n",
    "import matplotlib.pyplot as plt\n",
    "import seaborn as sns; sns.set(color_codes=True)\n",
    "from pylab import plot, show, text\n",
    "import datetime\n",
    "import matplotlib.dates as mdates\n",
    "import pylab"
   ]
  },
  {
   "cell_type": "code",
   "execution_count": 2,
   "metadata": {},
   "outputs": [
    {
     "data": {
      "text/plain": [
       "<function TextIOWrapper.close>"
      ]
     },
     "execution_count": 2,
     "metadata": {},
     "output_type": "execute_result"
    }
   ],
   "source": [
    "# Extract all items and their average rating then save as a file \n",
    "\n",
    "i = 0\n",
    "with open('amazon_users.txt', 'w', encoding=\"utf8\") as file:\n",
    "    with open('amazon-meta.txt', 'r', encoding=\"utf8\") as f:\n",
    "        for line in f:\n",
    "            line = line.strip()\n",
    "            #if i == 10:\n",
    "            #    break\n",
    "            if line[:3] == 'Id:':\n",
    "                id = int(line[4:])\n",
    "                i += 1\n",
    "            if line[:5] == 'ASIN:':\n",
    "                asin = line[6:]\n",
    "            if line[:6] == 'title:':# and asin == '0312254040':\n",
    "                title = line[7:].replace('\"','').replace(',','')\n",
    "            if line[:6] == 'group:':\n",
    "                group = line[7:]\n",
    "            if line[:8] == 'similar:':\n",
    "                similar = int(line[9:11])\n",
    "            if line[:11] == 'categories:':\n",
    "                categories = (line[12:])\n",
    "            if line[:8] == 'reviews:':# and asin == '0312254040':\n",
    "                reviews = int(line[15:18])\n",
    "                avg_rating = float(line[-3:].replace(':',''))\n",
    "                strwrite = str(id) + ',' + asin + ',\"' + title + '\",' + group + ',' +  str(similar) + ',' +  categories + ',' +  str(reviews) + ',' +  str(avg_rating)\n",
    "                file.write(strwrite + '\\n')\n",
    "file.close\n",
    "         \n",
    "            "
   ]
  },
  {
   "cell_type": "code",
   "execution_count": 9,
   "metadata": {},
   "outputs": [
    {
     "data": {
      "text/plain": [
       "<function TextIOWrapper.close>"
      ]
     },
     "execution_count": 9,
     "metadata": {},
     "output_type": "execute_result"
    }
   ],
   "source": [
    "#Display and write the categories of sample products\n",
    "\n",
    "i, is_categories, is_group = 0, False, False\n",
    "with open('amazon_categories.txt', 'w', encoding=\"utf8\") as file:\n",
    "    with open('amazon-meta.txt', 'r', encoding=\"utf8\") as f:\n",
    "        for line in f:\n",
    "            line = line.strip()\n",
    "            #if i == 10:\n",
    "            #    break\n",
    "            if line[:3] == 'Id:':\n",
    "                id = int(line[4:])\n",
    "            if line[:6] == 'group:':\n",
    "                #print ('group', (line[7:]))\n",
    "                is_group = line[7:] == 'Book'\n",
    "                j = 0\n",
    "                is_categories = False\n",
    "                i += 1\n",
    "                \n",
    "            if line[:11] == 'categories:' and is_group:\n",
    "                #print ('categories', (line[12:]))\n",
    "                num_categories = int(line[12:])\n",
    "                is_categories = True\n",
    "            \n",
    "            if (is_categories and is_group and j <= num_categories):\n",
    "                j += 1\n",
    "                if line[1:6] == 'Books':\n",
    "                    strwrite = str(id) + ',' + str(line)\n",
    "                    file.write(strwrite + '\\n')\n",
    "file.close\n",
    "    "
   ]
  },
  {
   "cell_type": "code",
   "execution_count": 4,
   "metadata": {
    "collapsed": true
   },
   "outputs": [],
   "source": [
    "# read file and load to dataframe\n",
    "df = pd.read_csv('amazon_users.txt', header=None, \n",
    "                 names=['id', 'asin', 'title', 'group', 'similar', 'categories', 'reviews', 'avg_rating']) "
   ]
  },
  {
   "cell_type": "code",
   "execution_count": 5,
   "metadata": {},
   "outputs": [
    {
     "data": {
      "text/html": [
       "<div>\n",
       "<style>\n",
       "    .dataframe thead tr:only-child th {\n",
       "        text-align: right;\n",
       "    }\n",
       "\n",
       "    .dataframe thead th {\n",
       "        text-align: left;\n",
       "    }\n",
       "\n",
       "    .dataframe tbody tr th {\n",
       "        vertical-align: top;\n",
       "    }\n",
       "</style>\n",
       "<table border=\"1\" class=\"dataframe\">\n",
       "  <thead>\n",
       "    <tr style=\"text-align: right;\">\n",
       "      <th></th>\n",
       "      <th>id</th>\n",
       "      <th>similar</th>\n",
       "      <th>categories</th>\n",
       "      <th>reviews</th>\n",
       "      <th>avg_rating</th>\n",
       "    </tr>\n",
       "  </thead>\n",
       "  <tbody>\n",
       "    <tr>\n",
       "      <th>count</th>\n",
       "      <td>542684.000000</td>\n",
       "      <td>542684.000000</td>\n",
       "      <td>542684.000000</td>\n",
       "      <td>542684.000000</td>\n",
       "      <td>542684.000000</td>\n",
       "    </tr>\n",
       "    <tr>\n",
       "      <th>mean</th>\n",
       "      <td>274414.212208</td>\n",
       "      <td>3.296071</td>\n",
       "      <td>4.624605</td>\n",
       "      <td>7.498229</td>\n",
       "      <td>3.209534</td>\n",
       "    </tr>\n",
       "    <tr>\n",
       "      <th>std</th>\n",
       "      <td>158454.479276</td>\n",
       "      <td>2.287289</td>\n",
       "      <td>4.450647</td>\n",
       "      <td>13.759132</td>\n",
       "      <td>1.996296</td>\n",
       "    </tr>\n",
       "    <tr>\n",
       "      <th>min</th>\n",
       "      <td>1.000000</td>\n",
       "      <td>0.000000</td>\n",
       "      <td>0.000000</td>\n",
       "      <td>0.000000</td>\n",
       "      <td>0.000000</td>\n",
       "    </tr>\n",
       "    <tr>\n",
       "      <th>25%</th>\n",
       "      <td>137161.750000</td>\n",
       "      <td>0.000000</td>\n",
       "      <td>2.000000</td>\n",
       "      <td>0.000000</td>\n",
       "      <td>0.000000</td>\n",
       "    </tr>\n",
       "    <tr>\n",
       "      <th>50%</th>\n",
       "      <td>274427.500000</td>\n",
       "      <td>5.000000</td>\n",
       "      <td>4.000000</td>\n",
       "      <td>2.000000</td>\n",
       "      <td>4.000000</td>\n",
       "    </tr>\n",
       "    <tr>\n",
       "      <th>75%</th>\n",
       "      <td>411674.250000</td>\n",
       "      <td>5.000000</td>\n",
       "      <td>6.000000</td>\n",
       "      <td>8.000000</td>\n",
       "      <td>5.000000</td>\n",
       "    </tr>\n",
       "    <tr>\n",
       "      <th>max</th>\n",
       "      <td>548551.000000</td>\n",
       "      <td>5.000000</td>\n",
       "      <td>116.000000</td>\n",
       "      <td>99.000000</td>\n",
       "      <td>5.000000</td>\n",
       "    </tr>\n",
       "  </tbody>\n",
       "</table>\n",
       "</div>"
      ],
      "text/plain": [
       "                  id        similar     categories        reviews  \\\n",
       "count  542684.000000  542684.000000  542684.000000  542684.000000   \n",
       "mean   274414.212208       3.296071       4.624605       7.498229   \n",
       "std    158454.479276       2.287289       4.450647      13.759132   \n",
       "min         1.000000       0.000000       0.000000       0.000000   \n",
       "25%    137161.750000       0.000000       2.000000       0.000000   \n",
       "50%    274427.500000       5.000000       4.000000       2.000000   \n",
       "75%    411674.250000       5.000000       6.000000       8.000000   \n",
       "max    548551.000000       5.000000     116.000000      99.000000   \n",
       "\n",
       "          avg_rating  \n",
       "count  542684.000000  \n",
       "mean        3.209534  \n",
       "std         1.996296  \n",
       "min         0.000000  \n",
       "25%         0.000000  \n",
       "50%         4.000000  \n",
       "75%         5.000000  \n",
       "max         5.000000  "
      ]
     },
     "execution_count": 5,
     "metadata": {},
     "output_type": "execute_result"
    }
   ],
   "source": [
    "df.describe()"
   ]
  },
  {
   "cell_type": "code",
   "execution_count": 19,
   "metadata": {},
   "outputs": [
    {
     "data": {
      "text/plain": [
       "Book     104\n",
       "Music     40\n",
       "DVD       19\n",
       "Video     19\n",
       "Name: group, dtype: int64"
      ]
     },
     "execution_count": 19,
     "metadata": {},
     "output_type": "execute_result"
    }
   ],
   "source": [
    "# what item has the most number of reviews?\n",
    "df[df['reviews'] == 99].group.value_counts()\n",
    "# Answer: 180 items have 99 reviews \n",
    "# Book and Music groups are the most reviewed items"
   ]
  },
  {
   "cell_type": "code",
   "execution_count": 7,
   "metadata": {},
   "outputs": [
    {
     "name": "stdout",
     "output_type": "stream",
     "text": [
      "139949\n"
     ]
    }
   ],
   "source": [
    "# how many items that has no review\n",
    "print(len(df[df.reviews == 0]))"
   ]
  },
  {
   "cell_type": "code",
   "execution_count": 15,
   "metadata": {},
   "outputs": [
    {
     "data": {
      "text/plain": [
       "Book     115337\n",
       "Music     19481\n",
       "Video      3774\n",
       "DVD        1354\n",
       "CE            2\n",
       "Toy           1\n",
       "Name: group, dtype: int64"
      ]
     },
     "execution_count": 15,
     "metadata": {},
     "output_type": "execute_result"
    }
   ],
   "source": [
    "# which group has most no reviews\n",
    "df_no_reviews = df[df.reviews == 0]\n",
    "df_no_reviews.group.value_counts()\n",
    "# answer: Book"
   ]
  },
  {
   "cell_type": "code",
   "execution_count": 8,
   "metadata": {},
   "outputs": [
    {
     "data": {
      "text/plain": [
       "count    402735.000000\n",
       "mean          4.324836\n",
       "std           0.739279\n",
       "min           1.000000\n",
       "25%           4.000000\n",
       "50%           4.500000\n",
       "75%           5.000000\n",
       "max           5.000000\n",
       "Name: avg_rating, dtype: float64"
      ]
     },
     "execution_count": 8,
     "metadata": {},
     "output_type": "execute_result"
    }
   ],
   "source": [
    "# select items with reviews\n",
    "df_avg_rating = df[df.reviews > 0]\n",
    "df_avg_rating.avg_rating.describe()"
   ]
  },
  {
   "cell_type": "code",
   "execution_count": 9,
   "metadata": {},
   "outputs": [
    {
     "data": {
      "text/plain": [
       "group\n",
       "Software        4.500000\n",
       "Baby Product    4.500000\n",
       "Music           4.482065\n",
       "Toy             4.357143\n",
       "Book            4.315994\n",
       "Video           4.164579\n",
       "Sports          4.000000\n",
       "DVD             3.940051\n",
       "CE              3.500000\n",
       "Video Games     2.500000\n",
       "Name: avg_rating, dtype: float64"
      ]
     },
     "execution_count": 9,
     "metadata": {},
     "output_type": "execute_result"
    }
   ],
   "source": [
    "# what is the average rating of items per group?\n",
    "#CE is consumer electronics\"\n",
    "df_avg_rating.groupby(['group']).avg_rating.mean().sort_values(ascending=False)\n",
    "\n",
    "# Answer: Software and Baby Product groups have the highest average ratings at 4.5 \n",
    "#    while Consumer Electronics and Video Games have the lowest average ratings at 3.5 and 2.5 respectively"
   ]
  },
  {
   "cell_type": "code",
   "execution_count": null,
   "metadata": {
    "collapsed": true
   },
   "outputs": [],
   "source": []
  },
  {
   "cell_type": "code",
   "execution_count": null,
   "metadata": {
    "collapsed": true
   },
   "outputs": [],
   "source": []
  },
  {
   "cell_type": "markdown",
   "metadata": {},
   "source": [
    "#BELOW CELLS WILL WORK ON CATEGORY BLOAT"
   ]
  },
  {
   "cell_type": "code",
   "execution_count": 50,
   "metadata": {},
   "outputs": [
    {
     "data": {
      "text/html": [
       "<div>\n",
       "<style>\n",
       "    .dataframe thead tr:only-child th {\n",
       "        text-align: right;\n",
       "    }\n",
       "\n",
       "    .dataframe thead th {\n",
       "        text-align: left;\n",
       "    }\n",
       "\n",
       "    .dataframe tbody tr th {\n",
       "        vertical-align: top;\n",
       "    }\n",
       "</style>\n",
       "<table border=\"1\" class=\"dataframe\">\n",
       "  <thead>\n",
       "    <tr style=\"text-align: right;\">\n",
       "      <th></th>\n",
       "      <th>id</th>\n",
       "      <th>categories</th>\n",
       "      <th>start_category</th>\n",
       "      <th>end_category</th>\n",
       "    </tr>\n",
       "  </thead>\n",
       "  <tbody>\n",
       "    <tr>\n",
       "      <th>0</th>\n",
       "      <td>1</td>\n",
       "      <td>|Books[283155]|Subjects[1000]|Religion &amp; Spiri...</td>\n",
       "      <td>|Books[283155]|Subjects[1000]|Religion &amp; Spiri...</td>\n",
       "      <td>Preaching[12368]</td>\n",
       "    </tr>\n",
       "    <tr>\n",
       "      <th>1</th>\n",
       "      <td>1</td>\n",
       "      <td>|Books[283155]|Subjects[1000]|Religion &amp; Spiri...</td>\n",
       "      <td>|Books[283155]|Subjects[1000]|Religion &amp; Spiri...</td>\n",
       "      <td>Sermons[12370]</td>\n",
       "    </tr>\n",
       "    <tr>\n",
       "      <th>2</th>\n",
       "      <td>2</td>\n",
       "      <td>|Books[283155]|Subjects[1000]|Religion &amp; Spiri...</td>\n",
       "      <td>|Books[283155]|Subjects[1000]|Religion &amp; Spiri...</td>\n",
       "      <td>Wicca[12484]</td>\n",
       "    </tr>\n",
       "    <tr>\n",
       "      <th>3</th>\n",
       "      <td>2</td>\n",
       "      <td>|Books[283155]|Subjects[1000]|Religion &amp; Spiri...</td>\n",
       "      <td>|Books[283155]|Subjects[1000]|Religion &amp; Spiri...</td>\n",
       "      <td>Witchcraft[12486]</td>\n",
       "    </tr>\n",
       "    <tr>\n",
       "      <th>4</th>\n",
       "      <td>3</td>\n",
       "      <td>|Books[283155]|Subjects[1000]|Home &amp; Garden[48...</td>\n",
       "      <td>|Books[283155]|Subjects[1000]|Home &amp; Garden[48...</td>\n",
       "      <td>General[5144]</td>\n",
       "    </tr>\n",
       "    <tr>\n",
       "      <th>5</th>\n",
       "      <td>4</td>\n",
       "      <td>|Books[283155]|Subjects[1000]|Religion &amp; Spiri...</td>\n",
       "      <td>|Books[283155]|Subjects[1000]|Religion &amp; Spiri...</td>\n",
       "      <td>New Testament[12159]</td>\n",
       "    </tr>\n",
       "    <tr>\n",
       "      <th>6</th>\n",
       "      <td>4</td>\n",
       "      <td>|Books[283155]|Subjects[1000]|Religion &amp; Spiri...</td>\n",
       "      <td>|Books[283155]|Subjects[1000]|Religion &amp; Spiri...</td>\n",
       "      <td>Discipleship[12335]</td>\n",
       "    </tr>\n",
       "    <tr>\n",
       "      <th>7</th>\n",
       "      <td>4</td>\n",
       "      <td>|Books[283155]|Subjects[1000]|Religion &amp; Spiri...</td>\n",
       "      <td>|Books[283155]|Subjects[1000]|Religion &amp; Spiri...</td>\n",
       "      <td>Life Application[572080]</td>\n",
       "    </tr>\n",
       "    <tr>\n",
       "      <th>8</th>\n",
       "      <td>4</td>\n",
       "      <td>|Books[283155]|Subjects[1000]|Religion &amp; Spiri...</td>\n",
       "      <td>|Books[283155]|Subjects[1000]|Religion &amp; Spiri...</td>\n",
       "      <td>New Testament[572082]</td>\n",
       "    </tr>\n",
       "    <tr>\n",
       "      <th>9</th>\n",
       "      <td>4</td>\n",
       "      <td>|Books[283155]|Subjects[1000]|Religion &amp; Spiri...</td>\n",
       "      <td>|Books[283155]|Subjects[1000]|Religion &amp; Spiri...</td>\n",
       "      <td>Study Guides</td>\n",
       "    </tr>\n",
       "  </tbody>\n",
       "</table>\n",
       "</div>"
      ],
      "text/plain": [
       "   id                                         categories  \\\n",
       "0   1  |Books[283155]|Subjects[1000]|Religion & Spiri...   \n",
       "1   1  |Books[283155]|Subjects[1000]|Religion & Spiri...   \n",
       "2   2  |Books[283155]|Subjects[1000]|Religion & Spiri...   \n",
       "3   2  |Books[283155]|Subjects[1000]|Religion & Spiri...   \n",
       "4   3  |Books[283155]|Subjects[1000]|Home & Garden[48...   \n",
       "5   4  |Books[283155]|Subjects[1000]|Religion & Spiri...   \n",
       "6   4  |Books[283155]|Subjects[1000]|Religion & Spiri...   \n",
       "7   4  |Books[283155]|Subjects[1000]|Religion & Spiri...   \n",
       "8   4  |Books[283155]|Subjects[1000]|Religion & Spiri...   \n",
       "9   4  |Books[283155]|Subjects[1000]|Religion & Spiri...   \n",
       "\n",
       "                                      start_category              end_category  \n",
       "0  |Books[283155]|Subjects[1000]|Religion & Spiri...          Preaching[12368]  \n",
       "1  |Books[283155]|Subjects[1000]|Religion & Spiri...            Sermons[12370]  \n",
       "2  |Books[283155]|Subjects[1000]|Religion & Spiri...              Wicca[12484]  \n",
       "3  |Books[283155]|Subjects[1000]|Religion & Spiri...         Witchcraft[12486]  \n",
       "4  |Books[283155]|Subjects[1000]|Home & Garden[48...             General[5144]  \n",
       "5  |Books[283155]|Subjects[1000]|Religion & Spiri...      New Testament[12159]  \n",
       "6  |Books[283155]|Subjects[1000]|Religion & Spiri...       Discipleship[12335]  \n",
       "7  |Books[283155]|Subjects[1000]|Religion & Spiri...  Life Application[572080]  \n",
       "8  |Books[283155]|Subjects[1000]|Religion & Spiri...     New Testament[572082]  \n",
       "9  |Books[283155]|Subjects[1000]|Religion & Spiri...              Study Guides  "
      ]
     },
     "execution_count": 50,
     "metadata": {},
     "output_type": "execute_result"
    }
   ],
   "source": [
    "# read file and load to dataframe\n",
    "df = pd.read_csv('amazon_categories.txt', header=None, names=['id', 'categories']) \n",
    "\n",
    "# get last category \n",
    "df['start_category'] = df['categories'].apply(lambda x: x[:x.rfind('|')])\n",
    "df['end_category']   = df['categories'].apply(lambda x: x[x.rfind('|')+1:])\n",
    "df.head(10)\n",
    "\n"
   ]
  },
  {
   "cell_type": "code",
   "execution_count": 121,
   "metadata": {},
   "outputs": [
    {
     "data": {
      "text/html": [
       "<div>\n",
       "<style>\n",
       "    .dataframe thead tr:only-child th {\n",
       "        text-align: right;\n",
       "    }\n",
       "\n",
       "    .dataframe thead th {\n",
       "        text-align: left;\n",
       "    }\n",
       "\n",
       "    .dataframe tbody tr th {\n",
       "        vertical-align: top;\n",
       "    }\n",
       "</style>\n",
       "<table border=\"1\" class=\"dataframe\">\n",
       "  <thead>\n",
       "    <tr style=\"text-align: right;\">\n",
       "      <th></th>\n",
       "      <th>id</th>\n",
       "      <th>categories</th>\n",
       "      <th>start_category</th>\n",
       "      <th>end_category</th>\n",
       "    </tr>\n",
       "  </thead>\n",
       "  <tbody>\n",
       "    <tr>\n",
       "      <th>0</th>\n",
       "      <td>1</td>\n",
       "      <td>|Books[283155]|Subjects[1000]|Religion &amp; Spiri...</td>\n",
       "      <td>|Books[283155]|Subjects[1000]|Religion &amp; Spiri...</td>\n",
       "      <td>Preaching[12368]</td>\n",
       "    </tr>\n",
       "    <tr>\n",
       "      <th>1</th>\n",
       "      <td>1</td>\n",
       "      <td>|Books[283155]|Subjects[1000]|Religion &amp; Spiri...</td>\n",
       "      <td>|Books[283155]|Subjects[1000]|Religion &amp; Spiri...</td>\n",
       "      <td>Sermons[12370]</td>\n",
       "    </tr>\n",
       "    <tr>\n",
       "      <th>2</th>\n",
       "      <td>2</td>\n",
       "      <td>|Books[283155]|Subjects[1000]|Religion &amp; Spiri...</td>\n",
       "      <td>|Books[283155]|Subjects[1000]|Religion &amp; Spiri...</td>\n",
       "      <td>Wicca[12484]</td>\n",
       "    </tr>\n",
       "    <tr>\n",
       "      <th>3</th>\n",
       "      <td>2</td>\n",
       "      <td>|Books[283155]|Subjects[1000]|Religion &amp; Spiri...</td>\n",
       "      <td>|Books[283155]|Subjects[1000]|Religion &amp; Spiri...</td>\n",
       "      <td>Witchcraft[12486]</td>\n",
       "    </tr>\n",
       "    <tr>\n",
       "      <th>18</th>\n",
       "      <td>8</td>\n",
       "      <td>|Books[283155]|Subjects[1000]|Nonfiction[53]|P...</td>\n",
       "      <td>|Books[283155]|Subjects[1000]|Nonfiction[53]|P...</td>\n",
       "      <td>General[11083]</td>\n",
       "    </tr>\n",
       "  </tbody>\n",
       "</table>\n",
       "</div>"
      ],
      "text/plain": [
       "    id                                         categories  \\\n",
       "0    1  |Books[283155]|Subjects[1000]|Religion & Spiri...   \n",
       "1    1  |Books[283155]|Subjects[1000]|Religion & Spiri...   \n",
       "2    2  |Books[283155]|Subjects[1000]|Religion & Spiri...   \n",
       "3    2  |Books[283155]|Subjects[1000]|Religion & Spiri...   \n",
       "18   8  |Books[283155]|Subjects[1000]|Nonfiction[53]|P...   \n",
       "\n",
       "                                       start_category       end_category  \n",
       "0   |Books[283155]|Subjects[1000]|Religion & Spiri...   Preaching[12368]  \n",
       "1   |Books[283155]|Subjects[1000]|Religion & Spiri...     Sermons[12370]  \n",
       "2   |Books[283155]|Subjects[1000]|Religion & Spiri...       Wicca[12484]  \n",
       "3   |Books[283155]|Subjects[1000]|Religion & Spiri...  Witchcraft[12486]  \n",
       "18  |Books[283155]|Subjects[1000]|Nonfiction[53]|P...     General[11083]  "
      ]
     },
     "execution_count": 121,
     "metadata": {},
     "output_type": "execute_result"
    }
   ],
   "source": [
    "# get all books with almost the same categories except last category\n",
    "df_dup = df.groupby(['id', 'start_category']).filter(lambda x: len(x) > 1)\n",
    " \n",
    "df_dup.head()"
   ]
  },
  {
   "cell_type": "code",
   "execution_count": 123,
   "metadata": {
    "collapsed": true
   },
   "outputs": [],
   "source": [
    "# clean end_category and remove non-chars\n",
    "import re\n",
    "df_dup['end_cat'] = df_dup['end_category'].apply(lambda x: re.sub(r'[^a-zA-Z +]', '', x))\n",
    "\n"
   ]
  },
  {
   "cell_type": "code",
   "execution_count": 135,
   "metadata": {
    "collapsed": true
   },
   "outputs": [],
   "source": [
    "\n",
    "# remove NaN values; some category are numeric like 79 or 99 (why? is it input error?)\n",
    "df_dup['end_cat'].replace('', np.nan, inplace=True)\n",
    "df_dup.dropna(subset=['end_cat'], inplace=True)   \n",
    "\n",
    "# reset index of new dataframe\n",
    "df_dup = df_dup.reset_index(drop=True)"
   ]
  },
  {
   "cell_type": "code",
   "execution_count": 136,
   "metadata": {
    "collapsed": true
   },
   "outputs": [],
   "source": [
    "# convert to lowercase since word2vec expects it\n",
    "df_dup['end_cat'] = df_dup['end_cat'].str.lower()\n",
    "\n"
   ]
  },
  {
   "cell_type": "code",
   "execution_count": 139,
   "metadata": {},
   "outputs": [
    {
     "data": {
      "text/plain": [
       "12.713467324812255"
      ]
     },
     "execution_count": 139,
     "metadata": {},
     "output_type": "execute_result"
    }
   ],
   "source": [
    "# how many percent of categories can be combined using word2Vec model?\n",
    "len(df_dup.id.value_counts())/len(df)*100\n",
    "\n",
    "# answer: 12% (more than 10%!)"
   ]
  },
  {
   "cell_type": "code",
   "execution_count": 141,
   "metadata": {},
   "outputs": [
    {
     "data": {
      "text/plain": [
       "<function TextIOWrapper.close>"
      ]
     },
     "execution_count": 141,
     "metadata": {},
     "output_type": "execute_result"
    }
   ],
   "source": [
    "# save dataframe into a file\n",
    "\n",
    "with open('amazon_bow_categories.txt', 'w', encoding=\"utf8\") as file:\n",
    "    for i in range(len(df_dup)):\n",
    "        strwrite = str(df_dup.id[i]) + ',' + str(df_dup.end_cat[i])\n",
    "        file.write(strwrite + '\\n')\n",
    "file.close\n"
   ]
  },
  {
   "cell_type": "code",
   "execution_count": 8,
   "metadata": {
    "collapsed": true
   },
   "outputs": [],
   "source": [
    "#load the model\n",
    "#download text8 zip from website: https://cs.fit.edu/~mmahoney/compression/textdata.html\n",
    "import gensim\n",
    "from gensim.models import word2vec\n",
    "from gensim.models.word2vec import Text8Corpus\n",
    "import logging\n",
    "\n"
   ]
  },
  {
   "cell_type": "code",
   "execution_count": null,
   "metadata": {
    "collapsed": true
   },
   "outputs": [],
   "source": [
    "#display logs when loading word2vec text corpus\n",
    "logging.basicConfig(format='%(asctime)s : %(levelname)s : %(message)s', level=logging.INFO)\n",
    "sentences = word2vec.Text8Corpus('text8')\n",
    "model = word2vec.Word2Vec(sentences, size=200)\n"
   ]
  },
  {
   "cell_type": "code",
   "execution_count": 12,
   "metadata": {},
   "outputs": [
    {
     "data": {
      "text/html": [
       "<div>\n",
       "<style>\n",
       "    .dataframe thead tr:only-child th {\n",
       "        text-align: right;\n",
       "    }\n",
       "\n",
       "    .dataframe thead th {\n",
       "        text-align: left;\n",
       "    }\n",
       "\n",
       "    .dataframe tbody tr th {\n",
       "        vertical-align: top;\n",
       "    }\n",
       "</style>\n",
       "<table border=\"1\" class=\"dataframe\">\n",
       "  <thead>\n",
       "    <tr style=\"text-align: right;\">\n",
       "      <th></th>\n",
       "      <th>id</th>\n",
       "      <th>category</th>\n",
       "    </tr>\n",
       "  </thead>\n",
       "  <tbody>\n",
       "    <tr>\n",
       "      <th>0</th>\n",
       "      <td>1</td>\n",
       "      <td>preaching</td>\n",
       "    </tr>\n",
       "    <tr>\n",
       "      <th>1</th>\n",
       "      <td>1</td>\n",
       "      <td>sermon</td>\n",
       "    </tr>\n",
       "    <tr>\n",
       "      <th>2</th>\n",
       "      <td>2</td>\n",
       "      <td>wicca</td>\n",
       "    </tr>\n",
       "    <tr>\n",
       "      <th>3</th>\n",
       "      <td>2</td>\n",
       "      <td>witchcraft</td>\n",
       "    </tr>\n",
       "    <tr>\n",
       "      <th>4</th>\n",
       "      <td>8</td>\n",
       "      <td>general</td>\n",
       "    </tr>\n",
       "  </tbody>\n",
       "</table>\n",
       "</div>"
      ],
      "text/plain": [
       "   id    category\n",
       "0   1   preaching\n",
       "1   1      sermon\n",
       "2   2       wicca\n",
       "3   2  witchcraft\n",
       "4   8     general"
      ]
     },
     "execution_count": 12,
     "metadata": {},
     "output_type": "execute_result"
    }
   ],
   "source": [
    "# use nltk lemmatizer to convert words into their normalized form\n",
    "from nltk.stem import WordNetLemmatizer\n",
    "wordnet_lemmatizer = WordNetLemmatizer()\n",
    "\n",
    "#load categories into dataframe\n",
    "df = pd.read_csv('amazon_bow_categories.txt', header=None, names=['id', 'category']) \n",
    "df.head()\n",
    "\n"
   ]
  },
  {
   "cell_type": "code",
   "execution_count": 13,
   "metadata": {
    "collapsed": true
   },
   "outputs": [],
   "source": [
    "# lemmatize category as well\n",
    "df['category'] = df['category'].apply(lambda x: wordnet_lemmatizer.lemmatize(x))\n",
    "\n",
    "# check if previous step worked\n",
    "df.head()"
   ]
  },
  {
   "cell_type": "code",
   "execution_count": null,
   "metadata": {
    "collapsed": true
   },
   "outputs": [],
   "source": [
    "#save model as a file\n",
    "model.save('text8.model')\n"
   ]
  },
  {
   "cell_type": "code",
   "execution_count": null,
   "metadata": {},
   "outputs": [],
   "source": [
    "#load model from file\n",
    "model = gensim.models.Word2Vec.load('text8.model')"
   ]
  },
  {
   "cell_type": "code",
   "execution_count": 47,
   "metadata": {},
   "outputs": [
    {
     "data": {
      "text/plain": [
       "<function TextIOWrapper.close>"
      ]
     },
     "execution_count": 47,
     "metadata": {},
     "output_type": "execute_result"
    }
   ],
   "source": [
    "# collect all categories for the same id (book)\n",
    "# lemmatize each category and \n",
    "# use word2vec to predict the most similar category (word) to the bag of words\n",
    "# save result into a file\n",
    "\n",
    "with open('amazon_new_categories.txt', 'w', encoding=\"utf8\") as file:\n",
    "    bow = []\n",
    "    for i in df.id.value_counts().index:\n",
    "    #for i in df.head(100).id.value_counts().index:\n",
    "        for category_item in list(set(df[df['id']==i]['category'].tolist())):\n",
    "            bow += category_item.split()\n",
    "        lem = []\n",
    "        for word in bow:\n",
    "            x = wordnet_lemmatizer.lemmatize(word)\n",
    "            if x in model.wv.vocab:\n",
    "                #general is a generic term; thus use the other category instead\n",
    "                if x != 'general':    \n",
    "                    lem.append(x)\n",
    "                if len(lem) == 0:\n",
    "                    predicted = x\n",
    "                else:\n",
    "                    predicted = model.most_similar(lem)[0][0]\n",
    "                    \n",
    "        strwrite = str(i) + ',' + str(predicted)\n",
    "        file.write(strwrite + '\\n')\n",
    "        bow = []\n",
    "file.close\n"
   ]
  },
  {
   "cell_type": "code",
   "execution_count": 41,
   "metadata": {},
   "outputs": [
    {
     "name": "stdout",
     "output_type": "stream",
     "text": [
      "['cather', 'contemporary', 'austen', 'wharton', 'literary', 'classics', 'classic', 'woolf', 'author', 'general']\n"
     ]
    }
   ],
   "source": [
    "#how the categories are put into a bag of words (bow)\n",
    "#use sample id: 195777\n",
    "bow=[]\n",
    "for word in list(set(df[df['id']==195777]['category'].tolist())):\n",
    "    bow += word.split()\n",
    "print(bow)"
   ]
  },
  {
   "cell_type": "code",
   "execution_count": 11,
   "metadata": {},
   "outputs": [
    {
     "name": "stdout",
     "output_type": "stream",
     "text": [
      "[('mysticism', 0.8144474029541016)]\n"
     ]
    }
   ],
   "source": [
    "#print sample result\n",
    "print(model.most_similar(['wicca', 'witchcraft'], topn=1))"
   ]
  },
  {
   "cell_type": "code",
   "execution_count": 98,
   "metadata": {},
   "outputs": [
    {
     "name": "stdout",
     "output_type": "stream",
     "text": [
      "[('randomness', 0.6920949220657349)]\n"
     ]
    }
   ],
   "source": [
    "#print more sample result\n",
    "print(model.most_similar(['general', 'logic', 'brain', 'teaser', 'puzzles'], topn=1))"
   ]
  },
  {
   "cell_type": "markdown",
   "metadata": {},
   "source": [
    "<b> Summary of steps performed on finding similar or duplicate categories: </b> <br>\n",
    "1) Many categories have the same levels/hierarchy except the last section.  Collect all into a dataframe called df_dup (or dataframe of potential similar or duplicate categories )<br>\n",
    "2) Clean the end section of these categories by removing non chars like numbers and special symbols <br>\n",
    "3) Drop rows with NaN values since it has no use. This means the original category value is numeric of symbols <br>\n",
    "4) Save into a file for processing later on <br>\n",
    "5) Around 12% potential similar or duplicate categories will be processed later on <br>\n",
    "\n",
    "<b> Create new categories using word2vec (gensim) supplemented by ntlk lemmatization </b> <br>\n",
    "1) Collect all category words into a bag of words and remove duplicate words <br>\n",
    "2) Ensure that these bag of words exists in the corpus else prediction will have an error <br>\n",
    "  2.1) special handling on the category wording of 'general' since it is a generic category <br>\n",
    "3) Predict the word similar to the bag of words using word2vec <br>\n",
    "4) Resulting word is the new category <br>\n",
    "\n",
    "<b> Sample results: </b> <br>\n",
    "|Books[283155]|Subjects[1000]|Religion & Spiritual|Wicca and <br>\n",
    "|Books[283155]|Subjects[1000]|Religion & Spiritual|Witchcraft is predicted as <br>\n",
    "|Books[283155]|Subjects[1000]|Religion & Spiritual|Mysticism <br>\n",
    "\n",
    "<b> Recommendation for future research:</b> <br>\n",
    "1) Use bi-gram to handle words like 'operating systems' rather than treating them as two words 'operating', 'systems' <br>\n",
    "2) Extend search of similar or duplicated categories from the middle heirarchy/level. <br>\n",
    "3) Improve the corpus by adding new words in the model. For example; some of the result is funny like 'Cooking' is similar to 'Miso' which is a japanese soup.\n"
   ]
  },
  {
   "cell_type": "markdown",
   "metadata": {},
   "source": [
    "<h3> end of solution to category bloat section"
   ]
  },
  {
   "cell_type": "code",
   "execution_count": null,
   "metadata": {
    "collapsed": true
   },
   "outputs": [],
   "source": []
  },
  {
   "cell_type": "markdown",
   "metadata": {},
   "source": [
    "<h3> PART B</h3>\n",
    "B. (Suggested duration: 30 mins)\n",
    "Give the number crunching a rest! Just think about these problems.\n",
    "1. Algorithm thinking<br>\n",
    "How would build the product categorization from scratch, using similar/co-purchased information?<br>\n",
    "<b> I would collect all words in the product categorization and including the categorization of the similar products to the given product. Then using Naive Bayes, or Support Vector Machine (SVM) or NLTK, I would classify the products based on similar categorization among the given product and it's similar products.\n",
    "For example: productA is categorized as cat1, cat2, cat3 while similar product is ProductA1 and categorized as cat1, cat2.1, cat5. Then based on similarity coefficient, ProductA is now classified as (0.6cat1, 0.15cat2, 0.15cat.1, .05cat3, .05cat5). \n",
    "\n",
    "<br>\n",
    "\n",
    "</b>\n",
    "2. Product thinking<br>\n",
    "Now, put on your 'product thinking' hat.<br>\n",
    "a. Is it a good idea to show users the categorization hierarchy for items?<br>\n",
    "<b> Yes, showing users the categorization hierarchy for each items will help them to search for more or other items which are on the same category with what he/she is looking at. This also gives more user engagement on the website and thus increase the probability that this user will purchase an item.\n",
    "</b>\n",
    "b. Is it a good idea to show users similar/co-purchased items?<br>\n",
    "<b> Yes, it is a good idea to show users similar/co-purchased items since it is a quick way to showcase some of the products to the user. It practically increases sales since it will create a good feeling on the customer that it is being personalized for their own needs and increases shopping behavior to check it out or buy more.\n",
    "</b>\n",
    "c. Is it a good idea to show users reviews and ratings for items?<br>\n",
    "<b> Yes, it is a good idea to show users reviews and ratings for items because for some customers that has limited information on the item, they will based their decisions on other customers who bought and used the product. It is also important to display the average rating AND HOW MANY REVIEWS.  A five-star rating with 3 reviewers may not be good compared to 4.5 rating with 100 reviewers.\n",
    "</b>\n",
    "d. For each of the above, why? How will you establish the same?<br>\n",
    "<b>  1. how to show categorization hierarchy for items: Put all the categories for this item and then when user clicks on any category levels, it will display all items related to this item under that category\n",
    "2. How to show users similar/co-purchased items:  Display the image of the item, price and ratings of all items similar to the item being viewed. Also users can also compared each items side by side according to product description, ratings and price.  \n",
    "3. How to show users reviews and ratings for items: Similar to what Amazon is currently doing, show users reviews sorted by review date, highest rating, most votes and most helpful.  Also show the reviews with lowest rating so that the user can get the reviews for both good and bad ratings. \n",
    "</b>\n"
   ]
  },
  {
   "cell_type": "markdown",
   "metadata": {},
   "source": [
    "#End of Report"
   ]
  }
 ],
 "metadata": {
  "kernelspec": {
   "display_name": "Python 3",
   "language": "python",
   "name": "python3"
  },
  "language_info": {
   "codemirror_mode": {
    "name": "ipython",
    "version": 3
   },
   "file_extension": ".py",
   "mimetype": "text/x-python",
   "name": "python",
   "nbconvert_exporter": "python",
   "pygments_lexer": "ipython3",
   "version": "3.5.3"
  }
 },
 "nbformat": 4,
 "nbformat_minor": 2
}
